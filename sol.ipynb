{
 "cells": [
  {
   "cell_type": "code",
   "execution_count": null,
   "metadata": {},
   "outputs": [],
   "source": [
    "import cv2\n",
    "import numpy as np\n",
    "import tensorflow as tf\n",
    "from skimage.filters import gabor\n",
    "from sklearn.feature_extraction import image\n",
    "from tensorflow.keras.applications import Xception\n",
    "from tensorflow.keras.layers import Dense, GlobalAveragePooling2D\n",
    "from tensorflow.keras.models import Model\n"
   ]
  },
  {
   "cell_type": "code",
   "execution_count": null,
   "metadata": {},
   "outputs": [],
   "source": [
    "def preprocess_frame(frame, size=(224, 224)):\n",
    "    frame_resized = cv2.resize(frame, size)\n",
    "    frame_rgb = cv2.cvtColor(frame_resized, cv2.COLOR_BGR2RGB)\n",
    "    return frame_rgb\n"
   ]
  },
  {
   "cell_type": "code",
   "execution_count": null,
   "metadata": {},
   "outputs": [],
   "source": [
    "def gabor_feature_extraction(image):\n",
    "    filtered_images = []\n",
    "    for theta in [0, np.pi/4, np.pi/2, 3*np.pi/4]:\n",
    "        for frequency in [0.1, 0.3, 0.5]:\n",
    "            real, imag = gabor(image, frequency=frequency, theta=theta)\n",
    "            filtered_images.append(real)\n",
    "    return np.stack(filtered_images, axis=-1)\n"
   ]
  },
  {
   "cell_type": "code",
   "execution_count": null,
   "metadata": {},
   "outputs": [],
   "source": [
    "def orb_keypoints(image):\n",
    "    orb = cv2.ORB_create()\n",
    "    keypoints, descriptors = orb.detectAndCompute(image, None)\n",
    "    return keypoints, descriptors\n"
   ]
  },
  {
   "cell_type": "code",
   "execution_count": null,
   "metadata": {},
   "outputs": [],
   "source": [
    "def non_max_suppression(keypoints, descriptors):\n",
    "    # You can implement a simple non-maximum suppression algorithm here\n",
    "    # Retain only the keypoints with strong responses\n",
    "    # Placeholder function\n",
    "    return keypoints, descriptors\n"
   ]
  },
  {
   "cell_type": "code",
   "execution_count": null,
   "metadata": {},
   "outputs": [],
   "source": [
    "def build_xception_model():\n",
    "    base_model = Xception(weights='imagenet', include_top=False)\n",
    "    x = base_model.output\n",
    "    x = GlobalAveragePooling2D()(x)\n",
    "    x = Dense(1024, activation='relu')(x)\n",
    "    predictions = Dense(1, activation='sigmoid')(x)\n",
    "    model = Model(inputs=base_model.input, outputs=predictions)\n",
    "    \n",
    "    model.compile(optimizer='adam', loss='binary_crossentropy', metrics=['accuracy'])\n",
    "    return model\n"
   ]
  },
  {
   "cell_type": "code",
   "execution_count": null,
   "metadata": {},
   "outputs": [],
   "source": [
    "def deepfake_detection_pipeline(video_path):\n",
    "    cap = cv2.VideoCapture(video_path)\n",
    "    model = build_xception_model()\n",
    "\n",
    "    while cap.isOpened():\n",
    "        ret, frame = cap.read()\n",
    "        if not ret:\n",
    "            break\n",
    "        \n",
    "        preprocessed_frame = preprocess_frame(frame)\n",
    "        gabor_features = gabor_feature_extraction(preprocessed_frame)\n",
    "        keypoints, descriptors = orb_keypoints(preprocessed_frame)\n",
    "        keypoints, descriptors = non_max_suppression(keypoints, descriptors)\n",
    "        \n",
    "        # Use CNN for classification\n",
    "        prediction = model.predict(np.expand_dims(gabor_features, axis=0))\n",
    "        print(\"Deepfake Detected\" if prediction > 0.5 else \"Authentic\")\n",
    "\n",
    "    cap.release()\n"
   ]
  }
 ],
 "metadata": {
  "language_info": {
   "name": "python"
  }
 },
 "nbformat": 4,
 "nbformat_minor": 2
}
